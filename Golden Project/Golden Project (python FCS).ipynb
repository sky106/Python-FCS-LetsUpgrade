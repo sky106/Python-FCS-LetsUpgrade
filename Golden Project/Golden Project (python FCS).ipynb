{
 "cells": [
  {
   "cell_type": "markdown",
   "metadata": {},
   "source": [
    "Name : Akash Arjun Sawant \n",
    "Clg : Shri Bhausaheb Vartak College\n",
    "Email ID : sawantakash106@gmail.com\n",
    "\n",
    "## Batch 5\n",
    "\n",
    "# 1) Golden Project (Python FCS)"
   ]
  },
  {
   "cell_type": "markdown",
   "metadata": {},
   "source": [
    "### -  Question :\n",
    "\n",
    "\n",
    "- You have been given an array A of size N consisting of positive integers. You need to find and print the product of all the     number in this array Modulo 109+7.\n",
    "\n",
    "  Input Format:\n",
    "  The first line contains a single integer N denoting the size of the array. The next line contains N space separated integers     denoting the elements of the array\n",
    "\n",
    "  Output Format:\n",
    "  Print a single integer denoting the product of all the elements of the array Modulo 109+7.\n",
    "\n",
    "  Constraints:\n",
    "  1≤N≤103\n",
    "  1≤A[i]≤103\n",
    "\n",
    "   - SAMPLE INPUT \n",
    "   -  5\n",
    "   -  1 2 3 4 5\n",
    "     \n",
    "   - SAMPLE OUTPUT \n",
    "   -  120\n",
    "\n",
    "  There are 5 integers to multiply. Let's store the final answer in answer variable. Since 1 is identity value for                 multiplication, initialize answer as 1.\n",
    "\n",
    "  So the process goes as follows:\n",
    "\n",
    "  answer=1\n",
    "  answer=(answer×1) % (109+7)\n",
    "  answer=(answer×2) % (109+7)\n",
    "  answer=(answer×3) % (109+7)\n",
    "  answer=(answer×4) % (109+7)\n",
    "  answer=(answer×5) % (109+7)\n",
    "\n",
    "  The above process will yield answer as\n"
   ]
  },
  {
   "cell_type": "markdown",
   "metadata": {},
   "source": [
    "### - Solution :"
   ]
  },
  {
   "cell_type": "code",
   "execution_count": 1,
   "metadata": {},
   "outputs": [
    {
     "name": "stdout",
     "output_type": "stream",
     "text": [
      "\n",
      "Enter The Size Of The Array Between The Given Range(1-103) : 5\n",
      "\n",
      "\n",
      "1. Enter The Array Elements(+ve Integers Only) : 1\n",
      "2. Enter The Array Elements(+ve Integers Only) : 2\n",
      "3. Enter The Array Elements(+ve Integers Only) : 3\n",
      "4. Enter The Array Elements(+ve Integers Only) : 4\n",
      "5. Enter The Array Elements(+ve Integers Only) : 5\n",
      "\n",
      ">>> The Product Of All The Elements Of The Array Modulo 10^9+7 Is :  120\n"
     ]
    }
   ],
   "source": [
    "'''\n",
    "Taking array of positive integers and multipy them and return the answer\n",
    "'''\n",
    "ARRAY_LIST = []\n",
    "\n",
    "while True:\n",
    "    try:\n",
    "        ARRAY_SIZE = int(input(\"\\nEnter The Size Of The Array Between The Given Range(1-103) : \"))\n",
    "    except ValueError as error_msg:\n",
    "        print(\"\\n*There Was An Error...!! - \", error_msg)\n",
    "        continue\n",
    "    if 1 <= ARRAY_SIZE <= 103:\n",
    "\n",
    "        i = 1\n",
    "        print(\"\\n\")\n",
    "        while i <= ARRAY_SIZE:\n",
    "            try:\n",
    "                ARRAY_ITEM = int(input(str(i)+\". Enter The Array Elements(+ve Integers Only) : \"))\n",
    "            except ValueError as error_msg:\n",
    "                print(\"\\n*There Was An Error...!! - \", error_msg)\n",
    "                continue\n",
    "            if 1 <= ARRAY_ITEM <= 103:\n",
    "                ARRAY_LIST.append(ARRAY_ITEM)\n",
    "                i = i + 1\n",
    "            else:\n",
    "                print(\"\\n*Invalid Input, For Array Elements Enter The Number Between(1-103)...\")\n",
    "\n",
    "        ANSWER = 1\n",
    "        for j in ARRAY_LIST:\n",
    "            ANSWER = (ANSWER * j) % (10**9 + 7)\n",
    "        print(\"\\n>>> The Product Of All The Elements Of The Array Modulo 10^9+7 Is : \", ANSWER)\n",
    "        break"
   ]
  }
 ],
 "metadata": {
  "kernelspec": {
   "display_name": "Python 3",
   "language": "python",
   "name": "python3"
  },
  "language_info": {
   "codemirror_mode": {
    "name": "ipython",
    "version": 3
   },
   "file_extension": ".py",
   "mimetype": "text/x-python",
   "name": "python",
   "nbconvert_exporter": "python",
   "pygments_lexer": "ipython3",
   "version": "3.7.6"
  }
 },
 "nbformat": 4,
 "nbformat_minor": 4
}
