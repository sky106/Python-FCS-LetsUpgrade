{
 "cells": [
  {
   "cell_type": "markdown",
   "metadata": {},
   "source": [
    "Name : Akash Arjun Sawant \n",
    "Clg : Shri Bhausaheb Vartak College\n",
    "Email ID : sawantakash106@gmail.com\n",
    "\n",
    "# Day 4 : Assignment"
   ]
  },
  {
   "cell_type": "markdown",
   "metadata": {},
   "source": [
    "# 1) Assignment 1 - \n",
    "\n",
    "\n",
    "***Make a function for taking in a number and printing a Fibonacci Series. \n"
   ]
  },
  {
   "cell_type": "code",
   "execution_count": 1,
   "metadata": {},
   "outputs": [
    {
     "name": "stdout",
     "output_type": "stream",
     "text": [
      "First n numbers of Fibonacci series : 7\n",
      "\n",
      "First  7  numbers of Fibonacci series are as follows : \n",
      "0\n",
      "1\n",
      "1\n",
      "2\n",
      "3\n",
      "5\n",
      "8\n"
     ]
    }
   ],
   "source": [
    "limit = int(input(\"First n numbers of Fibonacci series : \"))\n",
    "\n",
    "def printFibbo(number):\n",
    "    n1, n2 = 0, 1\n",
    "    count = 0\n",
    "    if number <= 0:\n",
    "        print(\"\\nPlease enter a positive integer\")\n",
    "    elif number == 1:\n",
    "        print(\"\\nFirst number of Fibonacci series is as follows : \")\n",
    "        print(n1)\n",
    "    else:\n",
    "        print(\"\\nFirst \",number,\" numbers of Fibonacci series are as follows : \")\n",
    "        while count < number:\n",
    "            print(n1)\n",
    "            nth = n1 + n2\n",
    "            n1 = n2\n",
    "            n2 = nth\n",
    "            count += 1\n",
    "            \n",
    "printFibbo(limit)\n"
   ]
  },
  {
   "cell_type": "markdown",
   "metadata": {},
   "source": [
    "# 2) Assignment 2 - \n",
    "\n",
    "\n",
    "***File handling question \n",
    "\n",
    "  - Open a Binary File \n",
    "  - Write \"l love LetsUpgrade\" \n",
    "  - Read that file again \n",
    "  - Append \" We all love Python Classes with LIJ\" \n",
    "  - Read again using with keyword"
   ]
  },
  {
   "cell_type": "code",
   "execution_count": 6,
   "metadata": {},
   "outputs": [],
   "source": [
    "file = open(\"demo.bin\",\"wb\")\n",
    "file.write(b\"l love LetsUpgrade\")\n",
    "file.close()"
   ]
  },
  {
   "cell_type": "code",
   "execution_count": 7,
   "metadata": {},
   "outputs": [
    {
     "name": "stdout",
     "output_type": "stream",
     "text": [
      "b'l love LetsUpgrade'\n"
     ]
    }
   ],
   "source": [
    "file = open(\"demo.bin\",\"rb\")\n",
    "print(file.read())\n",
    "file.close()"
   ]
  },
  {
   "cell_type": "code",
   "execution_count": 8,
   "metadata": {},
   "outputs": [],
   "source": [
    "file = open(\"demo.bin\",\"ab\")\n",
    "file.write(b\" We all love Python Classes with LIJ\")\n",
    "file.close()"
   ]
  },
  {
   "cell_type": "code",
   "execution_count": 9,
   "metadata": {},
   "outputs": [
    {
     "name": "stdout",
     "output_type": "stream",
     "text": [
      "b'l love LetsUpgrade We all love Python Classes with LIJ'\n"
     ]
    }
   ],
   "source": [
    "with open(\"demo.bin\",\"rb\") as file:\n",
    "    print(file.read())\n",
    "file.close()"
   ]
  },
  {
   "cell_type": "markdown",
   "metadata": {},
   "source": [
    "# 3) Assignment 3 -\n",
    "\n",
    "\n",
    "***Make a static Movie Recommender system which take in users input of what kind of movie they want to watch, \n",
    "\n",
    "1. Anim \n",
    "2. RomCom \n",
    "3. Action\n",
    "4. Thriller\n",
    " \n",
    "\"And also randomise the movie output for every time\"\n",
    "\n",
    "- i/p - Thriller \n",
    "- o/p - FNF, 6 Underground \n",
    "- i/p - Thriller \n",
    "- o/p - abcMovie, Sherlock holmes "
   ]
  },
  {
   "cell_type": "code",
   "execution_count": 4,
   "metadata": {},
   "outputs": [
    {
     "name": "stdout",
     "output_type": "stream",
     "text": [
      "----------Welcome To The Movie Recommender System----------\n",
      "\n",
      "What kind of movie you want to watch ?........\n",
      "\n",
      "  1 . Animation\n",
      "  2 . Romcom\n",
      "  3 . Action\n",
      "  4 . Thriller\n",
      "\n",
      "Please enter the number corresponding to your choice : 1\n",
      "\n",
      "You can watch movie : The Jungle Book\n"
     ]
    }
   ],
   "source": [
    "import random\n",
    "\n",
    "print('----------Welcome To The Movie Recommender System----------')\n",
    "print('\\nWhat kind of movie you want to watch ?........\\n')\n",
    "\n",
    "movieType = ['Animation','Romcom','Action','Thriller']\n",
    "count = 1\n",
    "for i in movieType:\n",
    "    print(' ',count,'.',i)\n",
    "    count+=1\n",
    "\n",
    "choice1 = int(input('\\nPlease enter the number corresponding to your choice : '))\n",
    "\n",
    "movieAnim = ['The Jungle Book','Toy Story','Moana','Dumbo','The Incredibles']\n",
    "movieRomcom = ['Jab We Met ','Partner','Singh is King','The Wedding Singer','The Proposal']\n",
    "movieAct = ['The Avengers','War','Gladiator','Dhoom','Bahubali']\n",
    "movieThrill = ['Drishyam','Ghajini','Pink','Glass','Inception']\n",
    "\n",
    "def getMovie(i):\n",
    "        switcher={          \n",
    "            1: '\\nYou can watch movie : '+random.choice(movieAnim),\n",
    "            2: '\\nYou can watch movie : '+random.choice(movieRomcom),\n",
    "            3: '\\nYou can watch movie : '+random.choice(movieAct),\n",
    "            4: '\\nYou can watch movie : '+random.choice(movieThrill)\n",
    "        }\n",
    "        return switcher.get(i,\"*Invalid number entered...\")\n",
    "                             \n",
    "a = getMovie(choice1)                          \n",
    "print(a)    \n"
   ]
  },
  {
   "cell_type": "code",
   "execution_count": null,
   "metadata": {},
   "outputs": [],
   "source": []
  }
 ],
 "metadata": {
  "kernelspec": {
   "display_name": "Python 3",
   "language": "python",
   "name": "python3"
  },
  "language_info": {
   "codemirror_mode": {
    "name": "ipython",
    "version": 3
   },
   "file_extension": ".py",
   "mimetype": "text/x-python",
   "name": "python",
   "nbconvert_exporter": "python",
   "pygments_lexer": "ipython3",
   "version": "3.7.6"
  }
 },
 "nbformat": 4,
 "nbformat_minor": 4
}
