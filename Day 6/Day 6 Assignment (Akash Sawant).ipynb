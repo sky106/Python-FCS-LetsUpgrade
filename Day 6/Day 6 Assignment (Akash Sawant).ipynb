{
 "cells": [
  {
   "cell_type": "markdown",
   "metadata": {},
   "source": [
    "Name : Akash Arjun Sawant \n",
    "Clg : Shri Bhausaheb Vartak College\n",
    "Email ID : sawantakash106@gmail.com\n",
    "\n",
    "# Day 6 : Assignment"
   ]
  },
  {
   "cell_type": "markdown",
   "metadata": {},
   "source": [
    "# 1) Assignment 1 - \n",
    "\n",
    "\n",
    "***For this challenge, create a bank account class that has two attributes:\n",
    "\n",
    " - ownerName \n",
    " - balance\n",
    "\n",
    "and two methods: \n",
    "\n",
    " - deposit \n",
    " - withdraw \n",
    "\n",
    "As an added requirement, withdrawals may not exceed the available balance. \n",
    "Instantiate your class, make several deposits and withdrawals, and test to make sure the account \n",
    "can't be overdrawn. "
   ]
  },
  {
   "cell_type": "code",
   "execution_count": 1,
   "metadata": {},
   "outputs": [
    {
     "name": "stdout",
     "output_type": "stream",
     "text": [
      "!-------------Welcome To The NetBanking Facility Of HDFC Bank-------------!\n",
      "\n",
      "\n",
      "Enter Your Name : Akash Arjun Sawant\n",
      "\n",
      "Account Holder : Akash Arjun Sawant \n",
      "Total Balance In Your Account(INR) : $ 16204\n",
      "---------------------------------------------------------------------------\n",
      "\n",
      "*What Do You Want To Do...???\n",
      " 1. WithDraw Money\n",
      " 2. Deposite Money\n",
      "---------------------------------------------------------------------------\n",
      "\n",
      "Please Enter Number Corresponding To Your Choice(1 or 2) : 2\n",
      "Enter The Amount To Be Deposit : 10000\n",
      "---------------------------------------------------------------------------\n",
      "\n",
      "You Deposited $ 10000 Amount In Your Account Successfully...!!!\n",
      "Current Balance : $ 26204\n"
     ]
    }
   ],
   "source": [
    "\n",
    "import random\n",
    "\n",
    "class bank_account():\n",
    "    \n",
    "    ownerName = ''\n",
    "    balance = 0\n",
    "    \n",
    "    def __init__(self,ownerName,balance):\n",
    "        self.ownerName = ownerName\n",
    "        self.balance = balance\n",
    "                   \n",
    "    def display_info(self):\n",
    "        print('\\nAccount Holder : '+ self.ownerName,'\\nTotal Balance In Your Account(INR) : $ '+ str(self.balance))\n",
    "        \n",
    "    def deposit(self):\n",
    "        amountDepos = int(input('Enter The Amount To Be Deposit : '))\n",
    "        print('---------------------------------------------------------------------------')\n",
    "        print('\\nYou Deposited $ '+str(amountDepos)+' Amount In Your Account Successfully...!!!')\n",
    "        self.balance += amountDepos\n",
    "        print('Current Balance : $ '+str(self.balance))        \n",
    "    \n",
    "    def withdraw(self):\n",
    "        amountWith = int(input('Enter The Amount To Be WithDraw : '))\n",
    "        print('---------------------------------------------------------------------------')\n",
    "        self.balance -= amountWith\n",
    "        \n",
    "        if self.balance > 0:\n",
    "            print('\\nYou WithDrawn $ '+str(amountWith)+' Amount From Your Account Successfully...!!!')\n",
    "            print('Current Balance : $ '+str(self.balance))\n",
    "        else:\n",
    "            print('\\n**You Cannot WithDraw Entered Amount, Try Again With Less Amount.... ')\n",
    "       \n",
    "    \n",
    "    \n",
    "print('!-------------Welcome To The NetBanking Facility Of HDFC Bank-------------!')\n",
    "name = input('\\n\\nEnter Your Name : ')\n",
    "accountBal = random.choice(list(range(10000,50000)))\n",
    "\n",
    "obj = bank_account(name,accountBal)\n",
    "obj.display_info()\n",
    "\n",
    "print('---------------------------------------------------------------------------')\n",
    "print('\\n*What Do You Want To Do...???\\n 1. WithDraw Money\\n 2. Deposite Money')\n",
    "print('---------------------------------------------------------------------------')\n",
    "choice = int(input('\\nPlease Enter Number Corresponding To Your Choice(1 or 2) : '))\n",
    "\n",
    "if choice == 1:\n",
    "    obj.withdraw()\n",
    "elif choice ==2:\n",
    "    obj.deposit()\n",
    "else:\n",
    "    print('**Invalid Input.....')\n"
   ]
  },
  {
   "cell_type": "markdown",
   "metadata": {},
   "source": [
    "# 2) Assignment 2 - \n",
    "\n",
    "\n",
    "***For this challenge, create a Cone class that has two attributes: \n",
    "\n",
    " - Radius \n",
    " - height \n",
    " \n",
    "and two methods:\n",
    "\n",
    " - Volume -W x r2 x (h/3) \n",
    " - Surface area: base: w x r2, side: err x r x V(r2+h2) \n",
    "\n",
    "Make only one class with functions, as in where required Import Math "
   ]
  },
  {
   "cell_type": "code",
   "execution_count": 2,
   "metadata": {},
   "outputs": [
    {
     "name": "stdout",
     "output_type": "stream",
     "text": [
      "Enter the Details of the Cone \n",
      "\n",
      "Enter the Radius : 3.5\n",
      "Enter the Height : 5.5\n",
      "\n",
      "The volume of the Cone is : 70.55\n",
      "The Surface Area of the Cone is : 110.17\n"
     ]
    }
   ],
   "source": [
    "\n",
    "import math\n",
    "\n",
    "class Cone():\n",
    "    \n",
    "    radius = 0\n",
    "    height = 0\n",
    "    \n",
    "    def __init__(self,radius,height):\n",
    "        self.radius = radius\n",
    "        self.height = height\n",
    "        \n",
    "    def volume(self):\n",
    "        vol = math.pi*self.radius**2*(self.height/3)\n",
    "        print('\\nThe volume of the Cone is : '+str(round(vol,2)))\n",
    "        \n",
    "    def surface_area(self):\n",
    "        slant_height = math.sqrt(self.radius**2 + self.height**2)\n",
    "        area = math.pi*self.radius*(self.radius + slant_height)\n",
    "        print('The Surface Area of the Cone is : '+str(round(area,2)))\n",
    "       \n",
    "print('Enter the Details of the Cone \\n')\n",
    "radius = float(input('Enter the Radius : '))\n",
    "height = float(input('Enter the Height : '))            \n",
    "\n",
    "obj = Cone(radius,height)\n",
    "obj.volume()\n",
    "obj.surface_area()\n"
   ]
  },
  {
   "cell_type": "code",
   "execution_count": null,
   "metadata": {},
   "outputs": [],
   "source": []
  }
 ],
 "metadata": {
  "kernelspec": {
   "display_name": "Python 3",
   "language": "python",
   "name": "python3"
  },
  "language_info": {
   "codemirror_mode": {
    "name": "ipython",
    "version": 3
   },
   "file_extension": ".py",
   "mimetype": "text/x-python",
   "name": "python",
   "nbconvert_exporter": "python",
   "pygments_lexer": "ipython3",
   "version": "3.7.6"
  }
 },
 "nbformat": 4,
 "nbformat_minor": 4
}
