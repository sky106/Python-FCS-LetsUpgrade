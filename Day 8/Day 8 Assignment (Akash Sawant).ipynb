{
 "cells": [
  {
   "cell_type": "markdown",
   "metadata": {},
   "source": [
    "Name : Akash Arjun Sawant \n",
    "Clg : Shri Bhausaheb Vartak College\n",
    "Email ID : sawantakash106@gmail.com\n",
    "\n",
    "# Day 8 : Assignment"
   ]
  },
  {
   "cell_type": "markdown",
   "metadata": {},
   "source": [
    "# 1) Assignment 1 -\n",
    "\n",
    "\n",
    " - Write a decorator function for your taking input for you any kind of function you want to build, \n",
    "\n",
    " - For example - you make a fibonacci series function, in which your input range is been defined by the decorator programs input, "
   ]
  },
  {
   "cell_type": "code",
   "execution_count": 3,
   "metadata": {},
   "outputs": [],
   "source": [
    "def inputCode(arg):\n",
    "    def takeInput():\n",
    "        num = int(input(\"First n numbers of Fibonacci series : \"))\n",
    "        arg(num)\n",
    "    return takeInput"
   ]
  },
  {
   "cell_type": "code",
   "execution_count": 4,
   "metadata": {},
   "outputs": [],
   "source": [
    "@inputCode\n",
    "def fibbo(number):\n",
    "    n1, n2 = 0, 1\n",
    "    count = 0\n",
    "    if number <= 0:\n",
    "        print(\"\\nPlease enter a positive integer\")\n",
    "    elif number == 1:\n",
    "        print(\"\\nFirst number of Fibonacci series is as follows : \\n\")\n",
    "        print(n1)\n",
    "    else:\n",
    "        print(\"\\nFirst \",number,\" numbers of Fibonacci series are as follows : \\n\")\n",
    "        while count < number:\n",
    "            print(n1)\n",
    "            nth = n1 + n2\n",
    "            n1 = n2\n",
    "            n2 = nth\n",
    "            count += 1"
   ]
  },
  {
   "cell_type": "code",
   "execution_count": 5,
   "metadata": {},
   "outputs": [
    {
     "name": "stdout",
     "output_type": "stream",
     "text": [
      "First n numbers of Fibonacci series : 12\n",
      "\n",
      "First  12  numbers of Fibonacci series are as follows : \n",
      "\n",
      "0\n",
      "1\n",
      "1\n",
      "2\n",
      "3\n",
      "5\n",
      "8\n",
      "13\n",
      "21\n",
      "34\n",
      "55\n",
      "89\n"
     ]
    }
   ],
   "source": [
    "fibbo()"
   ]
  },
  {
   "cell_type": "markdown",
   "metadata": {},
   "source": [
    "# 2) Assignment 2 -\n",
    "\n",
    "\n",
    " - Make a small generator program for returning armstrong numbers in between 1-1000 in a generator object. "
   ]
  },
  {
   "cell_type": "code",
   "execution_count": 1,
   "metadata": {},
   "outputs": [],
   "source": [
    "def isArmstrong(lower,upper):\n",
    "    for num in range(lower, upper + 1):\n",
    "        order = len(str(num))\n",
    "        sum = 0\n",
    "        temp = num\n",
    "        while temp > 0:\n",
    "            digit = temp % 10\n",
    "            sum += digit ** order\n",
    "            temp //= 10\n",
    "        if num == sum:\n",
    "            yield num"
   ]
  },
  {
   "cell_type": "code",
   "execution_count": 2,
   "metadata": {},
   "outputs": [
    {
     "data": {
      "text/plain": [
       "[1, 2, 3, 4, 5, 6, 7, 8, 9, 153, 370, 371, 407]"
      ]
     },
     "execution_count": 2,
     "metadata": {},
     "output_type": "execute_result"
    }
   ],
   "source": [
    "armNumbers = isArmstrong(1,1000)\n",
    "list(armNumbers)"
   ]
  },
  {
   "cell_type": "code",
   "execution_count": null,
   "metadata": {},
   "outputs": [],
   "source": []
  }
 ],
 "metadata": {
  "kernelspec": {
   "display_name": "Python 3",
   "language": "python",
   "name": "python3"
  },
  "language_info": {
   "codemirror_mode": {
    "name": "ipython",
    "version": 3
   },
   "file_extension": ".py",
   "mimetype": "text/x-python",
   "name": "python",
   "nbconvert_exporter": "python",
   "pygments_lexer": "ipython3",
   "version": "3.7.6"
  }
 },
 "nbformat": 4,
 "nbformat_minor": 4
}
