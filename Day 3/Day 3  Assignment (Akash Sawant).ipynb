{
 "cells": [
  {
   "cell_type": "markdown",
   "metadata": {},
   "source": [
    "Name : Akash Arjun Sawant \n",
    "Clg : Shri Bhausaheb Vartak College\n",
    "Email ID : sawantakash106@gmail.com\n",
    "\n",
    "# Day 3 : Assignment"
   ]
  },
  {
   "cell_type": "markdown",
   "metadata": {},
   "source": [
    "# 1) Assignment 1 - \n",
    "\n",
    "\n",
    "***You all are Pilots, you want to land a plane safely, so WAP to take current altitude as input and check weather the altitude is less than 1000 ft, or more than 1000 ft and less than 5000 ft ask pilot to bring it further down to 1000 ft and if it is more than 5000 ft then ask pilot to turn around and attempt later \n",
    "\n",
    "**Input - 1000 \n",
    "Output - Safe to land\n",
    "\n",
    "**Input - 4500 \n",
    "Output - Bring down to 1000 \n",
    "\n",
    "**Input - 6500 \n",
    "Output - Turn Around \n",
    " \n",
    "\n"
   ]
  },
  {
   "cell_type": "code",
   "execution_count": 1,
   "metadata": {},
   "outputs": [
    {
     "name": "stdout",
     "output_type": "stream",
     "text": [
      "Enter the current altitude (in ft.) : 1200\n",
      "Bring down to 1000\n"
     ]
    }
   ],
   "source": [
    "alti = int(input('Enter the current altitude (in ft.) : '))\n",
    "if alti <= 1000:\n",
    "    print('Safe to land')\n",
    "elif 1000 < alti <= 5000:\n",
    "    print('Bring down to 1000')\n",
    "else:\n",
    "    print('Turn around')"
   ]
  },
  {
   "cell_type": "markdown",
   "metadata": {},
   "source": [
    "# 2) Assignment 2 - \n",
    "\n",
    "***Using for loop please print all the prime numbers between 1 - 200 \n",
    "using FOR LOOP AND RANGE function "
   ]
  },
  {
   "cell_type": "code",
   "execution_count": 2,
   "metadata": {},
   "outputs": [
    {
     "name": "stdout",
     "output_type": "stream",
     "text": [
      "The All Prime numbers between 1 - 200 are as follows:\n",
      "2\n",
      "3\n",
      "5\n",
      "7\n",
      "11\n",
      "13\n",
      "17\n",
      "19\n",
      "23\n",
      "29\n",
      "31\n",
      "37\n",
      "41\n",
      "43\n",
      "47\n",
      "53\n",
      "59\n",
      "61\n",
      "67\n",
      "71\n",
      "73\n",
      "79\n",
      "83\n",
      "89\n",
      "97\n",
      "101\n",
      "103\n",
      "107\n",
      "109\n",
      "113\n",
      "127\n",
      "131\n",
      "137\n",
      "139\n",
      "149\n",
      "151\n",
      "157\n",
      "163\n",
      "167\n",
      "173\n",
      "179\n",
      "181\n",
      "191\n",
      "193\n",
      "197\n",
      "199\n"
     ]
    }
   ],
   "source": [
    "lower = 1\n",
    "upper = 200\n",
    "\n",
    "print(\"The All Prime numbers between\", lower, \"-\", upper, \"are as follows:\")\n",
    "\n",
    "for i in range(lower, upper + 1):\n",
    "    if i > 1:\n",
    "        for j in range(2, i):\n",
    "            if (i % j) == 0:\n",
    "                break\n",
    "        else:\n",
    "            print(i)"
   ]
  },
  {
   "cell_type": "markdown",
   "metadata": {},
   "source": [
    "# 3) Assignment 3 -\n",
    "\n",
    "***Print the first ArmStrong number in the range of 1042000 to 702648265 and exit the loop as soon you encounter the first armstrong number \n",
    "\n",
    "***Use While Loop "
   ]
  },
  {
   "cell_type": "code",
   "execution_count": 3,
   "metadata": {},
   "outputs": [
    {
     "name": "stdout",
     "output_type": "stream",
     "text": [
      "The first Armstrong number in the range of 1042000 to 702648265 is :  1741725\n"
     ]
    }
   ],
   "source": [
    "lower = 1042000\n",
    "upper = 702648265\n",
    "\n",
    "for i in range(lower, upper + 1):\n",
    "    order = len(str(i))\n",
    "    sum = 0\n",
    "    temp = i\n",
    "    while temp > 0:\n",
    "        digit = temp % 10\n",
    "        sum += digit ** order\n",
    "        temp //= 10\n",
    "    if i == sum:\n",
    "        print('The first Armstrong number in the range of 1042000 to 702648265 is : ',i)\n",
    "        break"
   ]
  }
 ],
 "metadata": {
  "kernelspec": {
   "display_name": "Python 3",
   "language": "python",
   "name": "python3"
  },
  "language_info": {
   "codemirror_mode": {
    "name": "ipython",
    "version": 3
   },
   "file_extension": ".py",
   "mimetype": "text/x-python",
   "name": "python",
   "nbconvert_exporter": "python",
   "pygments_lexer": "ipython3",
   "version": "3.7.6"
  }
 },
 "nbformat": 4,
 "nbformat_minor": 4
}
